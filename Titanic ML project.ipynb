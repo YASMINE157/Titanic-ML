{
 "cells": [
  {
   "cell_type": "markdown",
   "id": "36c4b333",
   "metadata": {},
   "source": [
    "# Titanic predecting ML"
   ]
  },
  {
   "cell_type": "markdown",
   "id": "04e42058",
   "metadata": {},
   "source": [
    "# important library needed"
   ]
  },
  {
   "cell_type": "code",
   "execution_count": 2,
   "id": "95eab947",
   "metadata": {},
   "outputs": [],
   "source": [
    "import pandas as pd\n",
    "import matplotlib.pyplot as plt \n",
    "import seaborn as sns\n",
    "from category_encoders import OneHotEncoder\n",
    "from sklearn.impute import SimpleImputer\n",
    "from sklearn.neighbors import KNeighborsClassifier \n",
    "from sklearn.naive_bayes import GaussianNB\n",
    "from sklearn import svm\n",
    "from sklearn.model_selection import GridSearchCV\n",
    "from sklearn.pipeline import make_pipeline\n",
    "from sklearn.metrics import accuracy_score , precision_score , recall_score , f1_score\n",
    "from sklearn.utils.validation import check_is_fitted\n",
    "from pprint import PrettyPrinter \n",
    "from sklearn.model_selection import train_test_split"
   ]
  },
  {
   "cell_type": "code",
   "execution_count": 3,
   "id": "4014813f",
   "metadata": {},
   "outputs": [],
   "source": [
    "pp = PrettyPrinter(indent=2)"
   ]
  },
  {
   "cell_type": "markdown",
   "id": "810cbacf",
   "metadata": {},
   "source": [
    "# explore data"
   ]
  },
  {
   "cell_type": "code",
   "execution_count": 4,
   "id": "a536c1a0",
   "metadata": {},
   "outputs": [
    {
     "data": {
      "text/html": [
       "<div>\n",
       "<style scoped>\n",
       "    .dataframe tbody tr th:only-of-type {\n",
       "        vertical-align: middle;\n",
       "    }\n",
       "\n",
       "    .dataframe tbody tr th {\n",
       "        vertical-align: top;\n",
       "    }\n",
       "\n",
       "    .dataframe thead th {\n",
       "        text-align: right;\n",
       "    }\n",
       "</style>\n",
       "<table border=\"1\" class=\"dataframe\">\n",
       "  <thead>\n",
       "    <tr style=\"text-align: right;\">\n",
       "      <th></th>\n",
       "      <th>pclass</th>\n",
       "      <th>name</th>\n",
       "      <th>sex</th>\n",
       "      <th>age</th>\n",
       "      <th>sibsp</th>\n",
       "      <th>parch</th>\n",
       "      <th>ticket</th>\n",
       "      <th>fare</th>\n",
       "      <th>cabin</th>\n",
       "      <th>embarked</th>\n",
       "      <th>survived</th>\n",
       "    </tr>\n",
       "  </thead>\n",
       "  <tbody>\n",
       "    <tr>\n",
       "      <th>0</th>\n",
       "      <td>1</td>\n",
       "      <td>Allen, Miss. Elisabeth Walton</td>\n",
       "      <td>female</td>\n",
       "      <td>29.0000</td>\n",
       "      <td>0</td>\n",
       "      <td>0</td>\n",
       "      <td>24160</td>\n",
       "      <td>211.3375</td>\n",
       "      <td>B5</td>\n",
       "      <td>S</td>\n",
       "      <td>1</td>\n",
       "    </tr>\n",
       "    <tr>\n",
       "      <th>1</th>\n",
       "      <td>1</td>\n",
       "      <td>Allison, Master. Hudson Trevor</td>\n",
       "      <td>male</td>\n",
       "      <td>0.9167</td>\n",
       "      <td>1</td>\n",
       "      <td>2</td>\n",
       "      <td>113781</td>\n",
       "      <td>151.5500</td>\n",
       "      <td>C22 C26</td>\n",
       "      <td>S</td>\n",
       "      <td>1</td>\n",
       "    </tr>\n",
       "    <tr>\n",
       "      <th>2</th>\n",
       "      <td>1</td>\n",
       "      <td>Allison, Miss. Helen Loraine</td>\n",
       "      <td>female</td>\n",
       "      <td>2.0000</td>\n",
       "      <td>1</td>\n",
       "      <td>2</td>\n",
       "      <td>113781</td>\n",
       "      <td>151.5500</td>\n",
       "      <td>C22 C26</td>\n",
       "      <td>S</td>\n",
       "      <td>0</td>\n",
       "    </tr>\n",
       "    <tr>\n",
       "      <th>3</th>\n",
       "      <td>1</td>\n",
       "      <td>Allison, Mr. Hudson Joshua Creighton</td>\n",
       "      <td>male</td>\n",
       "      <td>30.0000</td>\n",
       "      <td>1</td>\n",
       "      <td>2</td>\n",
       "      <td>113781</td>\n",
       "      <td>151.5500</td>\n",
       "      <td>C22 C26</td>\n",
       "      <td>S</td>\n",
       "      <td>0</td>\n",
       "    </tr>\n",
       "    <tr>\n",
       "      <th>4</th>\n",
       "      <td>1</td>\n",
       "      <td>Allison, Mrs. Hudson J C (Bessie Waldo Daniels)</td>\n",
       "      <td>female</td>\n",
       "      <td>25.0000</td>\n",
       "      <td>1</td>\n",
       "      <td>2</td>\n",
       "      <td>113781</td>\n",
       "      <td>151.5500</td>\n",
       "      <td>C22 C26</td>\n",
       "      <td>S</td>\n",
       "      <td>0</td>\n",
       "    </tr>\n",
       "    <tr>\n",
       "      <th>5</th>\n",
       "      <td>1</td>\n",
       "      <td>Anderson, Mr. Harry</td>\n",
       "      <td>male</td>\n",
       "      <td>48.0000</td>\n",
       "      <td>0</td>\n",
       "      <td>0</td>\n",
       "      <td>19952</td>\n",
       "      <td>26.5500</td>\n",
       "      <td>E12</td>\n",
       "      <td>S</td>\n",
       "      <td>1</td>\n",
       "    </tr>\n",
       "    <tr>\n",
       "      <th>6</th>\n",
       "      <td>1</td>\n",
       "      <td>Andrews, Miss. Kornelia Theodosia</td>\n",
       "      <td>female</td>\n",
       "      <td>63.0000</td>\n",
       "      <td>1</td>\n",
       "      <td>0</td>\n",
       "      <td>13502</td>\n",
       "      <td>77.9583</td>\n",
       "      <td>D7</td>\n",
       "      <td>S</td>\n",
       "      <td>1</td>\n",
       "    </tr>\n",
       "    <tr>\n",
       "      <th>7</th>\n",
       "      <td>1</td>\n",
       "      <td>Andrews, Mr. Thomas Jr</td>\n",
       "      <td>male</td>\n",
       "      <td>39.0000</td>\n",
       "      <td>0</td>\n",
       "      <td>0</td>\n",
       "      <td>112050</td>\n",
       "      <td>0.0000</td>\n",
       "      <td>A36</td>\n",
       "      <td>S</td>\n",
       "      <td>0</td>\n",
       "    </tr>\n",
       "    <tr>\n",
       "      <th>8</th>\n",
       "      <td>1</td>\n",
       "      <td>Appleton, Mrs. Edward Dale (Charlotte Lamson)</td>\n",
       "      <td>female</td>\n",
       "      <td>53.0000</td>\n",
       "      <td>2</td>\n",
       "      <td>0</td>\n",
       "      <td>11769</td>\n",
       "      <td>51.4792</td>\n",
       "      <td>C101</td>\n",
       "      <td>S</td>\n",
       "      <td>1</td>\n",
       "    </tr>\n",
       "    <tr>\n",
       "      <th>9</th>\n",
       "      <td>1</td>\n",
       "      <td>Artagaveytia, Mr. Ramon</td>\n",
       "      <td>male</td>\n",
       "      <td>71.0000</td>\n",
       "      <td>0</td>\n",
       "      <td>0</td>\n",
       "      <td>PC 17609</td>\n",
       "      <td>49.5042</td>\n",
       "      <td>NaN</td>\n",
       "      <td>C</td>\n",
       "      <td>0</td>\n",
       "    </tr>\n",
       "  </tbody>\n",
       "</table>\n",
       "</div>"
      ],
      "text/plain": [
       "   pclass                                             name     sex      age  \\\n",
       "0       1                    Allen, Miss. Elisabeth Walton  female  29.0000   \n",
       "1       1                   Allison, Master. Hudson Trevor    male   0.9167   \n",
       "2       1                     Allison, Miss. Helen Loraine  female   2.0000   \n",
       "3       1             Allison, Mr. Hudson Joshua Creighton    male  30.0000   \n",
       "4       1  Allison, Mrs. Hudson J C (Bessie Waldo Daniels)  female  25.0000   \n",
       "5       1                              Anderson, Mr. Harry    male  48.0000   \n",
       "6       1                Andrews, Miss. Kornelia Theodosia  female  63.0000   \n",
       "7       1                           Andrews, Mr. Thomas Jr    male  39.0000   \n",
       "8       1    Appleton, Mrs. Edward Dale (Charlotte Lamson)  female  53.0000   \n",
       "9       1                          Artagaveytia, Mr. Ramon    male  71.0000   \n",
       "\n",
       "   sibsp  parch    ticket      fare    cabin embarked  survived  \n",
       "0      0      0     24160  211.3375       B5        S         1  \n",
       "1      1      2    113781  151.5500  C22 C26        S         1  \n",
       "2      1      2    113781  151.5500  C22 C26        S         0  \n",
       "3      1      2    113781  151.5500  C22 C26        S         0  \n",
       "4      1      2    113781  151.5500  C22 C26        S         0  \n",
       "5      0      0     19952   26.5500      E12        S         1  \n",
       "6      1      0     13502   77.9583       D7        S         1  \n",
       "7      0      0    112050    0.0000      A36        S         0  \n",
       "8      2      0     11769   51.4792     C101        S         1  \n",
       "9      0      0  PC 17609   49.5042      NaN        C         0  "
      ]
     },
     "execution_count": 4,
     "metadata": {},
     "output_type": "execute_result"
    }
   ],
   "source": [
    "#reading data\n",
    "train_data = pd.read_csv(r\"C:\\Users\\Mega Store\\Downloads\\titanic.csv\")\n",
    "train_data.head(10)"
   ]
  },
  {
   "cell_type": "code",
   "execution_count": 5,
   "id": "f53e4cff",
   "metadata": {},
   "outputs": [
    {
     "name": "stdout",
     "output_type": "stream",
     "text": [
      "<class 'pandas.core.frame.DataFrame'>\n",
      "RangeIndex: 1309 entries, 0 to 1308\n",
      "Data columns (total 11 columns):\n",
      " #   Column    Non-Null Count  Dtype  \n",
      "---  ------    --------------  -----  \n",
      " 0   pclass    1309 non-null   int64  \n",
      " 1   name      1309 non-null   object \n",
      " 2   sex       1309 non-null   object \n",
      " 3   age       1046 non-null   float64\n",
      " 4   sibsp     1309 non-null   int64  \n",
      " 5   parch     1309 non-null   int64  \n",
      " 6   ticket    1309 non-null   object \n",
      " 7   fare      1308 non-null   float64\n",
      " 8   cabin     295 non-null    object \n",
      " 9   embarked  1307 non-null   object \n",
      " 10  survived  1309 non-null   int64  \n",
      "dtypes: float64(2), int64(4), object(5)\n",
      "memory usage: 112.6+ KB\n"
     ]
    }
   ],
   "source": [
    "train_data.info()"
   ]
  },
  {
   "cell_type": "markdown",
   "id": "b889f95b",
   "metadata": {},
   "source": [
    "# some visaulization of features"
   ]
  },
  {
   "cell_type": "code",
   "execution_count": 6,
   "id": "a525305a",
   "metadata": {},
   "outputs": [
    {
     "data": {
      "text/plain": [
       "<seaborn.axisgrid.FacetGrid at 0x202f01e1280>"
      ]
     },
     "execution_count": 6,
     "metadata": {},
     "output_type": "execute_result"
    },
    {
     "data": {
      "image/png": "[encoded data removed]",
      "text/plain": [
       "<Figure size 570.486x500 with 1 Axes>"
      ]
     },
     "metadata": {},
     "output_type": "display_data"
    }
   ],
   "source": [
    "sns.catplot(y = 'age', x='pclass', hue='survived',kind='box', data=train_data)"
   ]
  },
  {
   "cell_type": "code",
   "execution_count": 7,
   "id": "20563c9f",
   "metadata": {},
   "outputs": [
    {
     "data": {
      "image/png": "[encoded data removed]",
      "text/plain": [
       "<Figure size 800x600 with 1 Axes>"
      ]
     },
     "metadata": {},
     "output_type": "display_data"
    },
    {
     "data": {
      "image/png": "[encoded data removed]",
      "text/plain": [
       "<Figure size 800x600 with 1 Axes>"
      ]
     },
     "metadata": {},
     "output_type": "display_data"
    }
   ],
   "source": [
    "# Plot the distribution of each numerical feature\n",
    "numerical_features = ['age', 'fare']  \n",
    "for feature in numerical_features:\n",
    "    plt.figure(figsize=(8, 6))\n",
    "    sns.histplot(data=train_data, x=feature, kde=True)\n",
    "    plt.title(f'Distribution of {feature}')\n",
    "    plt.xlabel(feature)\n",
    "    plt.ylabel('Frequency')\n",
    "    plt.show()"
   ]
  },
  {
   "cell_type": "code",
   "execution_count": 8,
   "id": "1a2c6336",
   "metadata": {},
   "outputs": [
    {
     "data": {
      "image/png": "[encoded data removed]",
      "text/plain": [
       "<Figure size 800x600 with 1 Axes>"
      ]
     },
     "metadata": {},
     "output_type": "display_data"
    },
    {
     "data": {
      "image/png": "[encoded data removed]",
      "text/plain": [
       "<Figure size 800x600 with 1 Axes>"
      ]
     },
     "metadata": {},
     "output_type": "display_data"
    },
    {
     "data": {
      "image/png": "[encoded data removed]",
      "text/plain": [
       "<Figure size 800x600 with 1 Axes>"
      ]
     },
     "metadata": {},
     "output_type": "display_data"
    }
   ],
   "source": [
    "# Plot the distribution of each categorical feature\n",
    "categorical_features = ['sex', 'pclass', 'embarked']  \n",
    "for feature in categorical_features:\n",
    "    plt.figure(figsize=(8, 6))\n",
    "    sns.countplot(data=train_data, x=feature)\n",
    "    plt.title(f'Distribution of {feature}')\n",
    "    plt.xlabel(feature)\n",
    "    plt.ylabel('Count')\n",
    "    plt.show()"
   ]
  },
  {
   "cell_type": "code",
   "execution_count": 11,
   "id": "f65f4b67",
   "metadata": {},
   "outputs": [
    {
     "data": {
      "text/html": [
       "<div>\n",
       "<style scoped>\n",
       "    .dataframe tbody tr th:only-of-type {\n",
       "        vertical-align: middle;\n",
       "    }\n",
       "\n",
       "    .dataframe tbody tr th {\n",
       "        vertical-align: top;\n",
       "    }\n",
       "\n",
       "    .dataframe thead th {\n",
       "        text-align: right;\n",
       "    }\n",
       "</style>\n",
       "<table border=\"1\" class=\"dataframe\">\n",
       "  <thead>\n",
       "    <tr style=\"text-align: right;\">\n",
       "      <th></th>\n",
       "      <th>pclass</th>\n",
       "      <th>age</th>\n",
       "      <th>sibsp</th>\n",
       "      <th>parch</th>\n",
       "      <th>fare</th>\n",
       "    </tr>\n",
       "  </thead>\n",
       "  <tbody>\n",
       "    <tr>\n",
       "      <th>pclass</th>\n",
       "      <td>1.000000</td>\n",
       "      <td>-0.408106</td>\n",
       "      <td>0.060832</td>\n",
       "      <td>0.018322</td>\n",
       "      <td>-0.558629</td>\n",
       "    </tr>\n",
       "    <tr>\n",
       "      <th>age</th>\n",
       "      <td>-0.408106</td>\n",
       "      <td>1.000000</td>\n",
       "      <td>-0.243699</td>\n",
       "      <td>-0.150917</td>\n",
       "      <td>0.178739</td>\n",
       "    </tr>\n",
       "    <tr>\n",
       "      <th>sibsp</th>\n",
       "      <td>0.060832</td>\n",
       "      <td>-0.243699</td>\n",
       "      <td>1.000000</td>\n",
       "      <td>0.373587</td>\n",
       "      <td>0.160238</td>\n",
       "    </tr>\n",
       "    <tr>\n",
       "      <th>parch</th>\n",
       "      <td>0.018322</td>\n",
       "      <td>-0.150917</td>\n",
       "      <td>0.373587</td>\n",
       "      <td>1.000000</td>\n",
       "      <td>0.221539</td>\n",
       "    </tr>\n",
       "    <tr>\n",
       "      <th>fare</th>\n",
       "      <td>-0.558629</td>\n",
       "      <td>0.178739</td>\n",
       "      <td>0.160238</td>\n",
       "      <td>0.221539</td>\n",
       "      <td>1.000000</td>\n",
       "    </tr>\n",
       "  </tbody>\n",
       "</table>\n",
       "</div>"
      ],
      "text/plain": [
       "          pclass       age     sibsp     parch      fare\n",
       "pclass  1.000000 -0.408106  0.060832  0.018322 -0.558629\n",
       "age    -0.408106  1.000000 -0.243699 -0.150917  0.178739\n",
       "sibsp   0.060832 -0.243699  1.000000  0.373587  0.160238\n",
       "parch   0.018322 -0.150917  0.373587  1.000000  0.221539\n",
       "fare   -0.558629  0.178739  0.160238  0.221539  1.000000"
      ]
     },
     "execution_count": 11,
     "metadata": {},
     "output_type": "execute_result"
    }
   ],
   "source": [
    "# get corrolation between features\n",
    "corr = train_data.drop(columns=[\"survived\",\"name\",\"cabin\"]).corr()\n",
    "corr"
   ]
  },
  {
   "cell_type": "markdown",
   "id": "6f4255dd",
   "metadata": {},
   "source": [
    "# spliting data"
   ]
  },
  {
   "cell_type": "code",
   "execution_count": 14,
   "id": "e61ee3b9",
   "metadata": {},
   "outputs": [],
   "source": [
    "X_train, X_test, y_train, y_test = train_test_split(\n",
    "    train_data.drop(columns=[\"survived\",\"name\",\"cabin\"]),train_data[\"survived\"]\n",
    "    , test_size=0.20, random_state=42)"
   ]
  },
  {
   "cell_type": "markdown",
   "id": "8f4e7089",
   "metadata": {},
   "source": [
    "# KNN model "
   ]
  },
  {
   "cell_type": "code",
   "execution_count": 16,
   "id": "2132827e",
   "metadata": {},
   "outputs": [
    {
     "name": "stderr",
     "output_type": "stream",
     "text": [
      "C:\\Users\\Mega Store\\anaconda3\\lib\\site-packages\\sklearn\\neighbors\\_classification.py:228: FutureWarning: Unlike other reduction functions (e.g. `skew`, `kurtosis`), the default behavior of `mode` typically preserves the axis it acts along. In SciPy 1.11.0, this behavior will change: the default value of `keepdims` will become False, the `axis` over which the statistic is taken will be eliminated, and the value None will no longer be accepted. Set `keepdims` to True or False to avoid this warning.\n",
      "  mode, _ = stats.mode(_y[neigh_ind, k], axis=1)\n",
      "C:\\Users\\Mega Store\\anaconda3\\lib\\site-packages\\sklearn\\neighbors\\_classification.py:228: FutureWarning: Unlike other reduction functions (e.g. `skew`, `kurtosis`), the default behavior of `mode` typically preserves the axis it acts along. In SciPy 1.11.0, this behavior will change: the default value of `keepdims` will become False, the `axis` over which the statistic is taken will be eliminated, and the value None will no longer be accepted. Set `keepdims` to True or False to avoid this warning.\n",
      "  mode, _ = stats.mode(_y[neigh_ind, k], axis=1)\n"
     ]
    },
    {
     "name": "stdout",
     "output_type": "stream",
     "text": [
      "Distance Metric: euclidean\n",
      "when k = 2\n",
      "Model accuracy score: 0.6374\n",
      "Model precision score: 0.7091\n",
      "Model recall score: 0.3305\n",
      "Model F1 score: 0.4509\n",
      "----------------------------------------------------------------------------------------------\n",
      "Distance Metric: euclidean\n",
      "when k = 3\n",
      "Model accuracy score: 0.6527\n",
      "Model precision score: 0.6517\n",
      "Model recall score: 0.4915\n",
      "Model F1 score: 0.5604\n",
      "----------------------------------------------------------------------------------------------\n"
     ]
    },
    {
     "name": "stderr",
     "output_type": "stream",
     "text": [
      "C:\\Users\\Mega Store\\anaconda3\\lib\\site-packages\\sklearn\\neighbors\\_classification.py:228: FutureWarning: Unlike other reduction functions (e.g. `skew`, `kurtosis`), the default behavior of `mode` typically preserves the axis it acts along. In SciPy 1.11.0, this behavior will change: the default value of `keepdims` will become False, the `axis` over which the statistic is taken will be eliminated, and the value None will no longer be accepted. Set `keepdims` to True or False to avoid this warning.\n",
      "  mode, _ = stats.mode(_y[neigh_ind, k], axis=1)\n",
      "C:\\Users\\Mega Store\\anaconda3\\lib\\site-packages\\sklearn\\neighbors\\_classification.py:228: FutureWarning: Unlike other reduction functions (e.g. `skew`, `kurtosis`), the default behavior of `mode` typically preserves the axis it acts along. In SciPy 1.11.0, this behavior will change: the default value of `keepdims` will become False, the `axis` over which the statistic is taken will be eliminated, and the value None will no longer be accepted. Set `keepdims` to True or False to avoid this warning.\n",
      "  mode, _ = stats.mode(_y[neigh_ind, k], axis=1)\n"
     ]
    },
    {
     "name": "stdout",
     "output_type": "stream",
     "text": [
      "Distance Metric: euclidean\n",
      "when k = 5\n",
      "Model accuracy score: 0.6794\n",
      "Model precision score: 0.7024\n",
      "Model recall score: 0.5000\n",
      "Model F1 score: 0.5842\n",
      "----------------------------------------------------------------------------------------------\n",
      "Distance Metric: euclidean\n",
      "when k = 9\n",
      "Model accuracy score: 0.6832\n",
      "Model precision score: 0.7333\n",
      "Model recall score: 0.4661\n",
      "Model F1 score: 0.5699\n",
      "----------------------------------------------------------------------------------------------\n"
     ]
    },
    {
     "name": "stderr",
     "output_type": "stream",
     "text": [
      "C:\\Users\\Mega Store\\anaconda3\\lib\\site-packages\\sklearn\\neighbors\\_classification.py:228: FutureWarning: Unlike other reduction functions (e.g. `skew`, `kurtosis`), the default behavior of `mode` typically preserves the axis it acts along. In SciPy 1.11.0, this behavior will change: the default value of `keepdims` will become False, the `axis` over which the statistic is taken will be eliminated, and the value None will no longer be accepted. Set `keepdims` to True or False to avoid this warning.\n",
      "  mode, _ = stats.mode(_y[neigh_ind, k], axis=1)\n"
     ]
    },
    {
     "name": "stdout",
     "output_type": "stream",
     "text": [
      "Distance Metric: manhattan\n",
      "when k = 2\n",
      "Model accuracy score: 0.6679\n",
      "Model precision score: 0.7925\n",
      "Model recall score: 0.3559\n",
      "Model F1 score: 0.4912\n",
      "----------------------------------------------------------------------------------------------\n"
     ]
    },
    {
     "name": "stderr",
     "output_type": "stream",
     "text": [
      "C:\\Users\\Mega Store\\anaconda3\\lib\\site-packages\\sklearn\\neighbors\\_classification.py:228: FutureWarning: Unlike other reduction functions (e.g. `skew`, `kurtosis`), the default behavior of `mode` typically preserves the axis it acts along. In SciPy 1.11.0, this behavior will change: the default value of `keepdims` will become False, the `axis` over which the statistic is taken will be eliminated, and the value None will no longer be accepted. Set `keepdims` to True or False to avoid this warning.\n",
      "  mode, _ = stats.mode(_y[neigh_ind, k], axis=1)\n"
     ]
    },
    {
     "name": "stdout",
     "output_type": "stream",
     "text": [
      "Distance Metric: manhattan\n",
      "when k = 3\n",
      "Model accuracy score: 0.6908\n",
      "Model precision score: 0.7126\n",
      "Model recall score: 0.5254\n",
      "Model F1 score: 0.6049\n",
      "----------------------------------------------------------------------------------------------\n"
     ]
    },
    {
     "name": "stderr",
     "output_type": "stream",
     "text": [
      "C:\\Users\\Mega Store\\anaconda3\\lib\\site-packages\\sklearn\\neighbors\\_classification.py:228: FutureWarning: Unlike other reduction functions (e.g. `skew`, `kurtosis`), the default behavior of `mode` typically preserves the axis it acts along. In SciPy 1.11.0, this behavior will change: the default value of `keepdims` will become False, the `axis` over which the statistic is taken will be eliminated, and the value None will no longer be accepted. Set `keepdims` to True or False to avoid this warning.\n",
      "  mode, _ = stats.mode(_y[neigh_ind, k], axis=1)\n"
     ]
    },
    {
     "name": "stdout",
     "output_type": "stream",
     "text": [
      "Distance Metric: manhattan\n",
      "when k = 5\n",
      "Model accuracy score: 0.6947\n",
      "Model precision score: 0.7159\n",
      "Model recall score: 0.5339\n",
      "Model F1 score: 0.6117\n",
      "----------------------------------------------------------------------------------------------\n"
     ]
    },
    {
     "name": "stderr",
     "output_type": "stream",
     "text": [
      "C:\\Users\\Mega Store\\anaconda3\\lib\\site-packages\\sklearn\\neighbors\\_classification.py:228: FutureWarning: Unlike other reduction functions (e.g. `skew`, `kurtosis`), the default behavior of `mode` typically preserves the axis it acts along. In SciPy 1.11.0, this behavior will change: the default value of `keepdims` will become False, the `axis` over which the statistic is taken will be eliminated, and the value None will no longer be accepted. Set `keepdims` to True or False to avoid this warning.\n",
      "  mode, _ = stats.mode(_y[neigh_ind, k], axis=1)\n",
      "C:\\Users\\Mega Store\\anaconda3\\lib\\site-packages\\sklearn\\neighbors\\_classification.py:228: FutureWarning: Unlike other reduction functions (e.g. `skew`, `kurtosis`), the default behavior of `mode` typically preserves the axis it acts along. In SciPy 1.11.0, this behavior will change: the default value of `keepdims` will become False, the `axis` over which the statistic is taken will be eliminated, and the value None will no longer be accepted. Set `keepdims` to True or False to avoid this warning.\n",
      "  mode, _ = stats.mode(_y[neigh_ind, k], axis=1)\n"
     ]
    },
    {
     "name": "stdout",
     "output_type": "stream",
     "text": [
      "Distance Metric: manhattan\n",
      "when k = 9\n",
      "Model accuracy score: 0.7290\n",
      "Model precision score: 0.7831\n",
      "Model recall score: 0.5508\n",
      "Model F1 score: 0.6468\n",
      "----------------------------------------------------------------------------------------------\n",
      "Distance Metric: minkowski\n",
      "when k = 2\n",
      "Model accuracy score: 0.6374\n",
      "Model precision score: 0.7091\n",
      "Model recall score: 0.3305\n",
      "Model F1 score: 0.4509\n",
      "----------------------------------------------------------------------------------------------\n"
     ]
    },
    {
     "name": "stderr",
     "output_type": "stream",
     "text": [
      "C:\\Users\\Mega Store\\anaconda3\\lib\\site-packages\\sklearn\\neighbors\\_classification.py:228: FutureWarning: Unlike other reduction functions (e.g. `skew`, `kurtosis`), the default behavior of `mode` typically preserves the axis it acts along. In SciPy 1.11.0, this behavior will change: the default value of `keepdims` will become False, the `axis` over which the statistic is taken will be eliminated, and the value None will no longer be accepted. Set `keepdims` to True or False to avoid this warning.\n",
      "  mode, _ = stats.mode(_y[neigh_ind, k], axis=1)\n"
     ]
    },
    {
     "name": "stdout",
     "output_type": "stream",
     "text": [
      "Distance Metric: minkowski\n",
      "when k = 3\n",
      "Model accuracy score: 0.6527\n",
      "Model precision score: 0.6517\n",
      "Model recall score: 0.4915\n",
      "Model F1 score: 0.5604\n",
      "----------------------------------------------------------------------------------------------\n",
      "Distance Metric: minkowski\n",
      "when k = 5\n",
      "Model accuracy score: 0.6794\n",
      "Model precision score: 0.7024\n",
      "Model recall score: 0.5000\n",
      "Model F1 score: 0.5842\n",
      "----------------------------------------------------------------------------------------------\n",
      "Distance Metric: minkowski\n",
      "when k = 9\n",
      "Model accuracy score: 0.6832\n",
      "Model precision score: 0.7333\n",
      "Model recall score: 0.4661\n",
      "Model F1 score: 0.5699\n",
      "----------------------------------------------------------------------------------------------\n"
     ]
    },
    {
     "name": "stderr",
     "output_type": "stream",
     "text": [
      "C:\\Users\\Mega Store\\anaconda3\\lib\\site-packages\\sklearn\\neighbors\\_classification.py:228: FutureWarning: Unlike other reduction functions (e.g. `skew`, `kurtosis`), the default behavior of `mode` typically preserves the axis it acts along. In SciPy 1.11.0, this behavior will change: the default value of `keepdims` will become False, the `axis` over which the statistic is taken will be eliminated, and the value None will no longer be accepted. Set `keepdims` to True or False to avoid this warning.\n",
      "  mode, _ = stats.mode(_y[neigh_ind, k], axis=1)\n",
      "C:\\Users\\Mega Store\\anaconda3\\lib\\site-packages\\sklearn\\neighbors\\_classification.py:228: FutureWarning: Unlike other reduction functions (e.g. `skew`, `kurtosis`), the default behavior of `mode` typically preserves the axis it acts along. In SciPy 1.11.0, this behavior will change: the default value of `keepdims` will become False, the `axis` over which the statistic is taken will be eliminated, and the value None will no longer be accepted. Set `keepdims` to True or False to avoid this warning.\n",
      "  mode, _ = stats.mode(_y[neigh_ind, k], axis=1)\n"
     ]
    }
   ],
   "source": [
    "# Evaluate KNN with different k values and distance metrics\n",
    "metrics = ['euclidean', 'manhattan','minkowski']\n",
    "for metric in metrics:\n",
    "\n",
    "    for k in [2,3,5,9] : \n",
    "\n",
    "        KNN_model = make_pipeline(\n",
    "            OneHotEncoder(),\n",
    "            SimpleImputer(),\n",
    "            KNeighborsClassifier(n_neighbors=k,metric=metric)\n",
    "        )\n",
    "        KNN_model.fit(X_train , y_train)\n",
    "        # Check your work\n",
    "        check_is_fitted(KNN_model[-1])\n",
    "        #test model\n",
    "        ytrain_pred = KNN_model.predict(X_test)\n",
    "        #evoulate model\n",
    "        print(f'Distance Metric: {metric}')\n",
    "        print(\"when k =\",k)\n",
    "        print('Model accuracy score: {0:0.4f}'. format(accuracy_score(y_test, ytrain_pred)))\n",
    "        print('Model precision score: {0:0.4f}'. format(precision_score(y_test, ytrain_pred)))\n",
    "        print('Model recall score: {0:0.4f}'. format(recall_score(y_test, ytrain_pred)))\n",
    "        print('Model F1 score: {0:0.4f}'. format(f1_score(y_test, ytrain_pred)))\n",
    "        print(\"----------------------------------------------------------------------------------------------\")"
   ]
  },
  {
   "cell_type": "markdown",
   "id": "dfef822c",
   "metadata": {},
   "source": [
    "# best KNN model"
   ]
  },
  {
   "cell_type": "code",
   "execution_count": 18,
   "id": "3d9164d4",
   "metadata": {},
   "outputs": [
    {
     "name": "stdout",
     "output_type": "stream",
     "text": [
      "Model accuracy score: 0.7290\n",
      "Model precision score: 0.7831\n",
      "Model recall score: 0.5508\n",
      "Model F1 score: 0.6468\n",
      "----------------------------------------------------------------------------------------------\n"
     ]
    },
    {
     "name": "stderr",
     "output_type": "stream",
     "text": [
      "C:\\Users\\Mega Store\\anaconda3\\lib\\site-packages\\sklearn\\neighbors\\_classification.py:228: FutureWarning: Unlike other reduction functions (e.g. `skew`, `kurtosis`), the default behavior of `mode` typically preserves the axis it acts along. In SciPy 1.11.0, this behavior will change: the default value of `keepdims` will become False, the `axis` over which the statistic is taken will be eliminated, and the value None will no longer be accepted. Set `keepdims` to True or False to avoid this warning.\n",
      "  mode, _ = stats.mode(_y[neigh_ind, k], axis=1)\n"
     ]
    }
   ],
   "source": [
    "KNN =make_pipeline(\n",
    "    OneHotEncoder(),\n",
    "    SimpleImputer(),\n",
    "    KNeighborsClassifier(n_neighbors=9,metric=\"manhattan\")\n",
    ")\n",
    "KNN.fit(X_train,y_train)\n",
    "check_is_fitted(KNN[-1])\n",
    "#test model\n",
    "fytrain_pred = KNN.predict(X_test)\n",
    "#evoulate model\n",
    "print('Model accuracy score: {0:0.4f}'. format(accuracy_score(y_test, fytrain_pred)))\n",
    "print('Model precision score: {0:0.4f}'. format(precision_score(y_test, fytrain_pred)))\n",
    "print('Model recall score: {0:0.4f}'. format(recall_score(y_test, fytrain_pred)))\n",
    "print('Model F1 score: {0:0.4f}'. format(f1_score(y_test, fytrain_pred)))\n",
    "print(\"----------------------------------------------------------------------------------------------\")"
   ]
  },
  {
   "cell_type": "markdown",
   "id": "7fb90677",
   "metadata": {},
   "source": [
    "# predecting KNN model"
   ]
  },
  {
   "cell_type": "code",
   "execution_count": 19,
   "id": "5ba1efcb",
   "metadata": {},
   "outputs": [
    {
     "name": "stdout",
     "output_type": "stream",
     "text": [
      "<class 'pandas.core.frame.DataFrame'>\n",
      "RangeIndex: 19 entries, 0 to 18\n",
      "Data columns (total 10 columns):\n",
      " #   Column    Non-Null Count  Dtype  \n",
      "---  ------    --------------  -----  \n",
      " 0   pclass    19 non-null     int64  \n",
      " 1   name      19 non-null     object \n",
      " 2   sex       19 non-null     object \n",
      " 3   age       18 non-null     float64\n",
      " 4   sibSp     19 non-null     int64  \n",
      " 5   parch     19 non-null     int64  \n",
      " 6   ticket    19 non-null     object \n",
      " 7   fare      19 non-null     float64\n",
      " 8   cabin     2 non-null      object \n",
      " 9   embarked  19 non-null     object \n",
      "dtypes: float64(2), int64(3), object(5)\n",
      "memory usage: 1.6+ KB\n"
     ]
    }
   ],
   "source": [
    "#read test data\n",
    "test_data = pd.read_csv(r\"C:\\Users\\Mega Store\\Downloads\\test (1).csv\")\n",
    "test_data.info()"
   ]
  },
  {
   "cell_type": "code",
   "execution_count": 24,
   "id": "62f8934d",
   "metadata": {},
   "outputs": [],
   "source": [
    "# spliting data\n",
    "X_test1= test_data.drop(columns=[\"name\",\"cabin\"])"
   ]
  },
  {
   "cell_type": "code",
   "execution_count": 25,
   "id": "742b87d5",
   "metadata": {},
   "outputs": [
    {
     "name": "stderr",
     "output_type": "stream",
     "text": [
      "C:\\Users\\Mega Store\\anaconda3\\lib\\site-packages\\sklearn\\base.py:493: FutureWarning: The feature names should match those that were passed during fit. Starting version 1.2, an error will be raised.\n",
      "Feature names unseen at fit time:\n",
      "- sibSp\n",
      "Feature names seen at fit time, yet now missing:\n",
      "- sibsp\n",
      "\n",
      "  warnings.warn(message, FutureWarning)\n",
      "C:\\Users\\Mega Store\\anaconda3\\lib\\site-packages\\sklearn\\neighbors\\_classification.py:228: FutureWarning: Unlike other reduction functions (e.g. `skew`, `kurtosis`), the default behavior of `mode` typically preserves the axis it acts along. In SciPy 1.11.0, this behavior will change: the default value of `keepdims` will become False, the `axis` over which the statistic is taken will be eliminated, and the value None will no longer be accepted. Set `keepdims` to True or False to avoid this warning.\n",
      "  mode, _ = stats.mode(_y[neigh_ind, k], axis=1)\n"
     ]
    }
   ],
   "source": [
    "#predecting model\n",
    "y_pred_test = pd.Series(KNN.predict(X_test1))"
   ]
  },
  {
   "cell_type": "code",
   "execution_count": 26,
   "id": "c330e522",
   "metadata": {},
   "outputs": [
    {
     "data": {
      "text/plain": [
       "5"
      ]
     },
     "execution_count": 26,
     "metadata": {},
     "output_type": "execute_result"
    }
   ],
   "source": [
    "y_pred_test.sum()"
   ]
  },
  {
   "cell_type": "markdown",
   "id": "a15b64b2",
   "metadata": {},
   "source": [
    "# Naive Bayes model"
   ]
  },
  {
   "cell_type": "code",
   "execution_count": 27,
   "id": "976f627f",
   "metadata": {},
   "outputs": [
    {
     "name": "stdout",
     "output_type": "stream",
     "text": [
      "Model accuracy score: 0.4962\n",
      "Model precision score: 0.4682\n",
      "Model recall score: 0.8729\n",
      "Model F1 score: 0.6095\n",
      "----------------------------------------------------------------------------------------------\n"
     ]
    }
   ],
   "source": [
    "# Evaluate NB\n",
    "NB_model = make_pipeline(\n",
    "    OneHotEncoder(),\n",
    "    SimpleImputer(),\n",
    "    GaussianNB()\n",
    ")\n",
    "NB_model.fit(X_train , y_train)\n",
    "# Check your work\n",
    "check_is_fitted(NB_model[-1])\n",
    "#test model\n",
    "ytrain_pred0 = NB_model.predict(X_test)\n",
    "#evoulate model\n",
    "print('Model accuracy score: {0:0.4f}'. format(accuracy_score(y_test, ytrain_pred0)))\n",
    "print('Model precision score: {0:0.4f}'. format(precision_score(y_test, ytrain_pred0)))\n",
    "print('Model recall score: {0:0.4f}'. format(recall_score(y_test, ytrain_pred0)))\n",
    "print('Model F1 score: {0:0.4f}'. format(f1_score(y_test, ytrain_pred0)))\n",
    "print(\"----------------------------------------------------------------------------------------------\")"
   ]
  },
  {
   "cell_type": "markdown",
   "id": "cfe5a786",
   "metadata": {},
   "source": [
    "# perdict NB model"
   ]
  },
  {
   "cell_type": "code",
   "execution_count": 28,
   "id": "3c3d4601",
   "metadata": {},
   "outputs": [
    {
     "name": "stderr",
     "output_type": "stream",
     "text": [
      "C:\\Users\\Mega Store\\anaconda3\\lib\\site-packages\\sklearn\\base.py:493: FutureWarning: The feature names should match those that were passed during fit. Starting version 1.2, an error will be raised.\n",
      "Feature names unseen at fit time:\n",
      "- sibSp\n",
      "Feature names seen at fit time, yet now missing:\n",
      "- sibsp\n",
      "\n",
      "  warnings.warn(message, FutureWarning)\n"
     ]
    },
    {
     "data": {
      "text/plain": [
       "8"
      ]
     },
     "execution_count": 28,
     "metadata": {},
     "output_type": "execute_result"
    }
   ],
   "source": [
    "y_pred_test0 = pd.Series(NB_model.predict(X_test1))\n",
    "y_pred_test0.sum()"
   ]
  },
  {
   "cell_type": "markdown",
   "id": "998bae78",
   "metadata": {},
   "source": [
    "# SVM model"
   ]
  },
  {
   "cell_type": "code",
   "execution_count": 29,
   "id": "0225afe3",
   "metadata": {},
   "outputs": [
    {
     "name": "stdout",
     "output_type": "stream",
     "text": [
      "kernel :  linear\n",
      "C & gamma values : 0.1 0.1\n",
      "Model accuracy score: 0.7595\n",
      "Model precision score: 0.7895\n",
      "Model recall score: 0.6356\n",
      "Model F1 score: 0.7042\n",
      "----------------------------------------------------------------------------------------------\n",
      "kernel :  linear\n",
      "C & gamma values : 0.1 1\n",
      "Model accuracy score: 0.7595\n",
      "Model precision score: 0.7895\n",
      "Model recall score: 0.6356\n",
      "Model F1 score: 0.7042\n",
      "----------------------------------------------------------------------------------------------\n",
      "kernel :  linear\n",
      "C & gamma values : 1 0.1\n",
      "Model accuracy score: 0.7901\n",
      "Model precision score: 0.8316\n",
      "Model recall score: 0.6695\n",
      "Model F1 score: 0.7418\n",
      "----------------------------------------------------------------------------------------------\n",
      "kernel :  linear\n",
      "C & gamma values : 1 1\n",
      "Model accuracy score: 0.7901\n",
      "Model precision score: 0.8316\n",
      "Model recall score: 0.6695\n",
      "Model F1 score: 0.7418\n",
      "----------------------------------------------------------------------------------------------\n",
      "kernel :  poly\n",
      "C & gamma values : 0.1 0.1\n",
      "Model accuracy score: 0.7595\n",
      "Model precision score: 0.7895\n",
      "Model recall score: 0.6356\n",
      "Model F1 score: 0.7042\n",
      "----------------------------------------------------------------------------------------------\n",
      "kernel :  poly\n",
      "C & gamma values : 0.1 1\n",
      "Model accuracy score: 0.7557\n",
      "Model precision score: 0.7872\n",
      "Model recall score: 0.6271\n",
      "Model F1 score: 0.6981\n",
      "----------------------------------------------------------------------------------------------\n",
      "kernel :  poly\n",
      "C & gamma values : 1 0.1\n",
      "Model accuracy score: 0.7595\n",
      "Model precision score: 0.7895\n",
      "Model recall score: 0.6356\n",
      "Model F1 score: 0.7042\n",
      "----------------------------------------------------------------------------------------------\n",
      "kernel :  poly\n",
      "C & gamma values : 1 1\n",
      "Model accuracy score: 0.7557\n",
      "Model precision score: 0.7872\n",
      "Model recall score: 0.6271\n",
      "Model F1 score: 0.6981\n",
      "----------------------------------------------------------------------------------------------\n",
      "kernel :  rbf\n",
      "C & gamma values : 0.1 0.1\n",
      "Model accuracy score: 0.5496\n",
      "Model precision score: 0.0000\n",
      "Model recall score: 0.0000\n",
      "Model F1 score: 0.0000\n",
      "----------------------------------------------------------------------------------------------\n"
     ]
    },
    {
     "name": "stderr",
     "output_type": "stream",
     "text": [
      "C:\\Users\\Mega Store\\anaconda3\\lib\\site-packages\\sklearn\\metrics\\_classification.py:1318: UndefinedMetricWarning: Precision is ill-defined and being set to 0.0 due to no predicted samples. Use `zero_division` parameter to control this behavior.\n",
      "  _warn_prf(average, modifier, msg_start, len(result))\n"
     ]
    },
    {
     "name": "stdout",
     "output_type": "stream",
     "text": [
      "kernel :  rbf\n",
      "C & gamma values : 0.1 1\n",
      "Model accuracy score: 0.5496\n",
      "Model precision score: 0.0000\n",
      "Model recall score: 0.0000\n",
      "Model F1 score: 0.0000\n",
      "----------------------------------------------------------------------------------------------\n"
     ]
    },
    {
     "name": "stderr",
     "output_type": "stream",
     "text": [
      "C:\\Users\\Mega Store\\anaconda3\\lib\\site-packages\\sklearn\\metrics\\_classification.py:1318: UndefinedMetricWarning: Precision is ill-defined and being set to 0.0 due to no predicted samples. Use `zero_division` parameter to control this behavior.\n",
      "  _warn_prf(average, modifier, msg_start, len(result))\n"
     ]
    },
    {
     "name": "stdout",
     "output_type": "stream",
     "text": [
      "kernel :  rbf\n",
      "C & gamma values : 1 0.1\n",
      "Model accuracy score: 0.6756\n",
      "Model precision score: 0.7324\n",
      "Model recall score: 0.4407\n",
      "Model F1 score: 0.5503\n",
      "----------------------------------------------------------------------------------------------\n",
      "kernel :  rbf\n",
      "C & gamma values : 1 1\n",
      "Model accuracy score: 0.6031\n",
      "Model precision score: 0.8500\n",
      "Model recall score: 0.1441\n",
      "Model F1 score: 0.2464\n",
      "----------------------------------------------------------------------------------------------\n"
     ]
    }
   ],
   "source": [
    "# Experiment with different kernel functions and regularization parameters\n",
    "kernels = ['linear', 'poly', 'rbf']\n",
    "C_values = [0.1, 1]\n",
    "gamma_values = [0.1, 1]\n",
    "for kernel in kernels:\n",
    "    for C in C_values:\n",
    "        for gamma in gamma_values:\n",
    "            \n",
    "            SVM_model = make_pipeline(\n",
    "                OneHotEncoder(),\n",
    "                SimpleImputer(),\n",
    "                svm.SVC(kernel=kernel, C=C, gamma=gamma)\n",
    "            )\n",
    "            SVM_model.fit(X_train , y_train)\n",
    "            # Check your work\n",
    "            check_is_fitted(SVM_model[-1])\n",
    "            #test model\n",
    "            ytrain_pred1 = SVM_model.predict(X_test)\n",
    "            #evoulate model\n",
    "            print(\"kernel : \" , kernel)\n",
    "            print(\"C & gamma values :\" , C , gamma )\n",
    "            print('Model accuracy score: {0:0.4f}'. format(accuracy_score(y_test, ytrain_pred1)))\n",
    "            print('Model precision score: {0:0.4f}'. format(precision_score(y_test, ytrain_pred1)))\n",
    "            print('Model recall score: {0:0.4f}'. format(recall_score(y_test, ytrain_pred1)))\n",
    "            print('Model F1 score: {0:0.4f}'. format(f1_score(y_test, ytrain_pred1)))\n",
    "            print(\"----------------------------------------------------------------------------------------------\")"
   ]
  },
  {
   "cell_type": "markdown",
   "id": "2be72827",
   "metadata": {},
   "source": [
    "# GridSearch"
   ]
  },
  {
   "cell_type": "code",
   "execution_count": 30,
   "id": "428d26db",
   "metadata": {},
   "outputs": [
    {
     "data": {
      "text/plain": [
       "GridSearchCV(cv=3,\n",
       "             estimator=Pipeline(steps=[('onehotencoder',\n",
       "                                        OneHotEncoder(cols=['sex', 'ticket',\n",
       "                                                            'embarked'])),\n",
       "                                       ('simpleimputer', SimpleImputer()),\n",
       "                                       ('svc', SVC(C=1, gamma=1))]),\n",
       "             param_grid={'svc__C': [1, 0.1], 'svc__gamma': [1, 0.1],\n",
       "                         'svc__kernel': ['rbf', 'poly', 'linear']})"
      ]
     },
     "execution_count": 30,
     "metadata": {},
     "output_type": "execute_result"
    }
   ],
   "source": [
    "#Tune hyperparameters using GridSearchCV\n",
    "param_grid = {'svc__kernel': ['rbf','poly','linear'], 'svc__C': [1,0.1], 'svc__gamma': [1,0.1]}\n",
    "grid_search = GridSearchCV(SVM_model, param_grid, cv=3)\n",
    "grid_search.fit(X_train, y_train)"
   ]
  },
  {
   "cell_type": "code",
   "execution_count": 31,
   "id": "c79b2746",
   "metadata": {},
   "outputs": [
    {
     "data": {
      "text/plain": [
       "0.8070678127984717"
      ]
     },
     "execution_count": 31,
     "metadata": {},
     "output_type": "execute_result"
    }
   ],
   "source": [
    "grid_search.best_score_"
   ]
  },
  {
   "cell_type": "code",
   "execution_count": 32,
   "id": "6eb3d742",
   "metadata": {},
   "outputs": [
    {
     "name": "stdout",
     "output_type": "stream",
     "text": [
      "    mean_fit_time  std_fit_time  mean_score_time  std_score_time param_svc__C  \\\n",
      "0        0.171258      0.006140         0.115838        0.000508            1   \n",
      "1        6.290456      1.813415         0.046025        0.003131            1   \n",
      "2        2.425533      0.694944         0.047471        0.009200            1   \n",
      "3        0.198192      0.017997         0.131653        0.016729            1   \n",
      "4        7.020355      2.765090         0.040332        0.003439            1   \n",
      "5        2.521261      0.843160         0.042209        0.000784            1   \n",
      "6        0.186482      0.012627         0.159650        0.021031          0.1   \n",
      "7        6.253212      1.787021         0.045664        0.008324          0.1   \n",
      "8        1.095248      0.181570         0.044415        0.004106          0.1   \n",
      "9        0.159099      0.004639         0.110837        0.006815          0.1   \n",
      "10       7.530584      3.030662         0.050449        0.008134          0.1   \n",
      "11       1.251368      0.231290         0.059396        0.002974          0.1   \n",
      "\n",
      "   param_svc__gamma param_svc__kernel  \\\n",
      "0                 1               rbf   \n",
      "1                 1              poly   \n",
      "2                 1            linear   \n",
      "3               0.1               rbf   \n",
      "4               0.1              poly   \n",
      "5               0.1            linear   \n",
      "6                 1               rbf   \n",
      "7                 1              poly   \n",
      "8                 1            linear   \n",
      "9               0.1               rbf   \n",
      "10              0.1              poly   \n",
      "11              0.1            linear   \n",
      "\n",
      "                                               params  split0_test_score  \\\n",
      "0   {'svc__C': 1, 'svc__gamma': 1, 'svc__kernel': ...           0.650430   \n",
      "1   {'svc__C': 1, 'svc__gamma': 1, 'svc__kernel': ...           0.730659   \n",
      "2   {'svc__C': 1, 'svc__gamma': 1, 'svc__kernel': ...           0.813754   \n",
      "3   {'svc__C': 1, 'svc__gamma': 0.1, 'svc__kernel'...           0.670487   \n",
      "4   {'svc__C': 1, 'svc__gamma': 0.1, 'svc__kernel'...           0.739255   \n",
      "5   {'svc__C': 1, 'svc__gamma': 0.1, 'svc__kernel'...           0.813754   \n",
      "6   {'svc__C': 0.1, 'svc__gamma': 1, 'svc__kernel'...           0.636103   \n",
      "7   {'svc__C': 0.1, 'svc__gamma': 1, 'svc__kernel'...           0.730659   \n",
      "8   {'svc__C': 0.1, 'svc__gamma': 1, 'svc__kernel'...           0.776504   \n",
      "9   {'svc__C': 0.1, 'svc__gamma': 0.1, 'svc__kerne...           0.636103   \n",
      "10  {'svc__C': 0.1, 'svc__gamma': 0.1, 'svc__kerne...           0.739255   \n",
      "11  {'svc__C': 0.1, 'svc__gamma': 0.1, 'svc__kerne...           0.776504   \n",
      "\n",
      "    split1_test_score  split2_test_score  mean_test_score  std_test_score  \\\n",
      "0            0.638968           0.621777         0.637058        0.011775   \n",
      "1            0.793696           0.744986         0.756447        0.026981   \n",
      "2            0.848138           0.759312         0.807068        0.036570   \n",
      "3            0.679083           0.641834         0.663801        0.015925   \n",
      "4            0.790831           0.744986         0.758357        0.023081   \n",
      "5            0.848138           0.759312         0.807068        0.036570   \n",
      "6            0.636103           0.633238         0.635148        0.001351   \n",
      "7            0.793696           0.744986         0.756447        0.026981   \n",
      "8            0.848138           0.739255         0.787966        0.045184   \n",
      "9            0.636103           0.633238         0.635148        0.001351   \n",
      "10           0.790831           0.744986         0.758357        0.023081   \n",
      "11           0.848138           0.739255         0.787966        0.045184   \n",
      "\n",
      "    rank_test_score  \n",
      "0                10  \n",
      "1                 7  \n",
      "2                 1  \n",
      "3                 9  \n",
      "4                 5  \n",
      "5                 1  \n",
      "6                11  \n",
      "7                 7  \n",
      "8                 3  \n",
      "9                11  \n",
      "10                5  \n",
      "11                3  \n"
     ]
    }
   ],
   "source": [
    "pp.pprint(pd.DataFrame(grid_search.cv_results_))"
   ]
  },
  {
   "cell_type": "code",
   "execution_count": 33,
   "id": "61ea0d67",
   "metadata": {},
   "outputs": [
    {
     "name": "stdout",
     "output_type": "stream",
     "text": [
      "1 1 linear\n"
     ]
    }
   ],
   "source": [
    "# Get the best hyperparameters\n",
    "best_params = grid_search.best_params_\n",
    "best_kernel = best_params['svc__kernel']\n",
    "best_C = best_params['svc__C']\n",
    "best_gamma = best_params['svc__gamma']\n",
    "print(best_C,best_gamma,best_kernel)"
   ]
  },
  {
   "cell_type": "markdown",
   "id": "d240afda",
   "metadata": {},
   "source": [
    "# Best SVM model"
   ]
  },
  {
   "cell_type": "code",
   "execution_count": 34,
   "id": "cfbb77f2",
   "metadata": {},
   "outputs": [
    {
     "name": "stdout",
     "output_type": "stream",
     "text": [
      "Model accuracy score: 0.7901\n",
      "Model precision score: 0.8316\n",
      "Model recall score: 0.6695\n",
      "Model F1 score: 0.7418\n",
      "----------------------------------------------------------------------------------------------\n"
     ]
    }
   ],
   "source": [
    "b_SVM = make_pipeline(\n",
    "    OneHotEncoder(),\n",
    "    SimpleImputer(),\n",
    "    svm.SVC(kernel='linear', C=1 ,gamma=1)\n",
    ")\n",
    "b_SVM.fit(X_train , y_train)\n",
    "# Check your work\n",
    "check_is_fitted(b_SVM[-1])\n",
    "#test model\n",
    "ytrain_pred1 = b_SVM.predict(X_test)\n",
    "#evoulate model\n",
    "print('Model accuracy score: {0:0.4f}'. format(accuracy_score(y_test, ytrain_pred1)))\n",
    "print('Model precision score: {0:0.4f}'. format(precision_score(y_test, ytrain_pred1)))\n",
    "print('Model recall score: {0:0.4f}'. format(recall_score(y_test, ytrain_pred1)))\n",
    "print('Model F1 score: {0:0.4f}'. format(f1_score(y_test, ytrain_pred1)))\n",
    "print(\"----------------------------------------------------------------------------------------------\")"
   ]
  },
  {
   "cell_type": "markdown",
   "id": "103774fd",
   "metadata": {},
   "source": [
    "# predict SVM model"
   ]
  },
  {
   "cell_type": "code",
   "execution_count": 37,
   "id": "33667cd8",
   "metadata": {},
   "outputs": [
    {
     "name": "stderr",
     "output_type": "stream",
     "text": [
      "C:\\Users\\Mega Store\\anaconda3\\lib\\site-packages\\sklearn\\base.py:493: FutureWarning: The feature names should match those that were passed during fit. Starting version 1.2, an error will be raised.\n",
      "Feature names unseen at fit time:\n",
      "- sibSp\n",
      "Feature names seen at fit time, yet now missing:\n",
      "- sibsp\n",
      "\n",
      "  warnings.warn(message, FutureWarning)\n"
     ]
    },
    {
     "data": {
      "text/plain": [
       "8"
      ]
     },
     "execution_count": 37,
     "metadata": {},
     "output_type": "execute_result"
    }
   ],
   "source": [
    "y_pred_test1 = pd.Series(b_SVM.predict(X_test1))\n",
    "y_pred_test1.sum()"
   ]
  },
  {
   "cell_type": "code",
   "execution_count": 43,
   "id": "5553bb75",
   "metadata": {},
   "outputs": [
    {
     "data": {
      "image/png": "[encoded data removed]",
      "text/plain": [
       "<Figure size 640x480 with 2 Axes>"
      ]
     },
     "metadata": {},
     "output_type": "display_data"
    }
   ],
   "source": [
    "plt.subplot(111)\n",
    "plt.plot(y_pred_test)\n",
    "plt.subplot(121)\n",
    "plt.plot(y_pred_test0)\n",
    "plt.subplot(122)\n",
    "plt.plot(y_pred_test1)\n",
    "plt.show()"
   ]
  },
  {
   "cell_type": "markdown",
   "id": "a895213a",
   "metadata": {},
   "source": [
    "# conclution \n",
    "\n",
    "## SVM is best model for titanic data with accuracy = 0.79\n",
    "\n",
    "### as KNN may perform well when there are clear boundaries between classes, but it can be sensitive to outliers and high-dimensional data.\n",
    "\n",
    "### Naive Bayes is computationally efficient and works well with categorical features, but it assumes independence between features, which may not hold true in all cases.\n",
    "\n",
    "### SVM can capture complex relationships in the data using different kernel functions, but it may require careful tuning of hyperparameters and can be sensitive to the choice of kernel & too slow to get best pramaters with grid search ."
   ]
  }
 ],
 "metadata": {
  "kernelspec": {
   "display_name": "Python 3 (ipykernel)",
   "language": "python",
   "name": "python3"
  },
  "language_info": {
   "codemirror_mode": {
    "name": "ipython",
    "version": 3
   },
   "file_extension": ".py",
   "mimetype": "text/x-python",
   "name": "python",
   "nbconvert_exporter": "python",
   "pygments_lexer": "ipython3",
   "version": "3.9.13"
  }
 },
 "nbformat": 4,
 "nbformat_minor": 5
}
